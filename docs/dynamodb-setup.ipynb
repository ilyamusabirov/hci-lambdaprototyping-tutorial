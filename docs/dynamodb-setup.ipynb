{
 "cells": [
  {
   "cell_type": "markdown",
   "source": "# Creating DynamoDB Resources and skeleton for bandits\n\n## Resources\n\n- https://hands-on.cloud/working-with-dynamodb-in-python-using-boto3\n- https://docs.aws.amazon.com/amazondynamodb/latest/developerguide/GettingStarted.Python.html\n- https://github.com/aws-samples/chalice-workshop (see example code for todo-app) & [relevant workshop section](https://chalice-workshop.readthedocs.io/en/latest/todo-app/part1/03-todo-app-dynamodb.html) for better integration with Chalice\n",
   "metadata": {
    "cell_id": "00000-61a3f2b8-44a3-4426-8124-c75a62a22737",
    "deepnote_cell_type": "markdown"
   }
  },
  {
   "cell_type": "code",
   "source": "from pprint import pprint",
   "metadata": {
    "tags": [],
    "cell_id": "00001-5b16ebe0-466a-4bbf-b398-b5a741f4443f",
    "deepnote_to_be_reexecuted": false,
    "source_hash": "e21be8e8",
    "execution_start": 1641616487610,
    "execution_millis": 1,
    "deepnote_cell_type": "code"
   },
   "outputs": [],
   "execution_count": null
  },
  {
   "cell_type": "code",
   "source": "import os\n\nos.environ[\"AWS_ACCESS_KEY_ID\"]\nos.environ[\"AWS_SECRET_ACCESS_KEY\"]\nos.environ[\"AWS_DEFAULT_REGION\"]",
   "metadata": {
    "tags": [],
    "cell_id": "00008-63fb5983-286f-4826-8d89-be00a52a3636",
    "deepnote_to_be_reexecuted": false,
    "source_hash": "a6754507",
    "execution_start": 1641616444546,
    "execution_millis": 3,
    "deepnote_output_heights": [
     21.1875
    ],
    "deepnote_cell_type": "code"
   },
   "outputs": [
    {
     "output_type": "execute_result",
     "execution_count": 12,
     "data": {
      "text/plain": "'us-east-2'"
     },
     "metadata": {}
    }
   ],
   "execution_count": null
  },
  {
   "cell_type": "code",
   "metadata": {
    "cell_id": "00001-57e54d69-b251-4556-9c59-030ab83e9284",
    "deepnote_to_be_reexecuted": false,
    "source_hash": "d32a4fc2",
    "execution_start": 1641616452379,
    "execution_millis": 2,
    "deepnote_cell_type": "code"
   },
   "source": "import boto3\nddb = boto3.resource('dynamodb')",
   "outputs": [],
   "execution_count": null
  },
  {
   "cell_type": "markdown",
   "source": "## Managing Tables",
   "metadata": {
    "tags": [],
    "is_collapsed": false,
    "cell_id": "00003-c6b4c346-00db-45e5-b9cd-8947b94f2aff",
    "deepnote_cell_type": "text-cell-h2"
   }
  },
  {
   "cell_type": "markdown",
   "source": "Only define index/key attributes when creating tables",
   "metadata": {
    "cell_id": "00002-c797066d-65d7-4778-8347-25c45b95ce9e",
    "deepnote_cell_type": "markdown"
   }
  },
  {
   "cell_type": "code",
   "metadata": {
    "cell_id": "00003-2bfa5ed8-8250-45bc-b72f-856c8e64309b",
    "deepnote_to_be_reexecuted": false,
    "source_hash": "3c25acf4",
    "execution_start": 1641616018702,
    "execution_millis": 2,
    "deepnote_cell_type": "code"
   },
   "source": "BANDIT_DATA_TABLE = 'tg-bandits-bandit1'",
   "outputs": [],
   "execution_count": null
  },
  {
   "cell_type": "code",
   "metadata": {
    "cell_id": "00004-b8a184b8-03a4-4573-943a-62e4109b536c",
    "deepnote_to_be_reexecuted": false,
    "source_hash": "99f012a9",
    "execution_start": 1641616018707,
    "execution_millis": 1,
    "deepnote_cell_type": "code"
   },
   "source": "# table = ddb.create_table (\n#     TableName = BANDIT_DATA_TABLE,\n#        KeySchema = [\n#            {\n#                'AttributeName': 'bandit_id',\n#                'KeyType': 'HASH'\n#            },\n#            {\n#                'AttributeName': 'creation_date',\n#                'KeyType': 'RANGE'\n#            }\n#            ],\n#            AttributeDefinitions = [\n#                {\n#                    'AttributeName': 'bandit_id',\n#                    'AttributeType': 'S'\n#                },\n#                {\n#                    'AttributeName':'creation_date',\n#                    'AttributeType': 'S'\n#                }\n#             ],\n#             ProvisionedThroughput={\n#                 'ReadCapacityUnits':1,\n#                 'WriteCapacityUnits':1\n#             }\n          \n#     )\n",
   "outputs": [],
   "execution_count": null
  },
  {
   "cell_type": "markdown",
   "source": "Clearing table (taking into account that there might be many items). Note both keys",
   "metadata": {
    "tags": [],
    "cell_id": "00007-3339de67-bdb8-46e3-b35d-a3b58458ca68",
    "deepnote_cell_type": "markdown"
   }
  },
  {
   "cell_type": "code",
   "source": "table = ddb.Table(BANDIT_DATA_TABLE)\ntable_scan = table.scan()\nwith table.batch_writer() as cursor:\n    for item in table_scan['Items']:\n        cursor.delete_item(\n            Key={\n                'bandit_id': item['bandit_id'],\n                'creation_date': item['creation_date']\n            }\n        )",
   "metadata": {
    "tags": [],
    "cell_id": "00009-0a080594-5f3e-4dd6-9fa8-5f756022195d",
    "deepnote_to_be_reexecuted": false,
    "source_hash": "f6f1d8dc",
    "execution_start": 1641616493341,
    "execution_millis": 21,
    "deepnote_cell_type": "code"
   },
   "outputs": [],
   "execution_count": null
  },
  {
   "cell_type": "markdown",
   "source": "## Manipulating Items",
   "metadata": {
    "tags": [],
    "is_collapsed": false,
    "cell_id": "00009-35560968-de6f-48b3-acc2-3113e5c01757",
    "deepnote_cell_type": "text-cell-h2"
   }
  },
  {
   "cell_type": "markdown",
   "source": "See [docs](https://docs.aws.amazon.com/amazondynamodb/latest/developerguide/GettingStarted.Python.03.html) for details",
   "metadata": {
    "tags": [],
    "cell_id": "00010-57599d18-29d0-4cf2-80aa-f69f88a1215a",
    "deepnote_cell_type": "markdown"
   }
  },
  {
   "cell_type": "markdown",
   "source": "Put initial bandit data into table. `boto3` does not process float data, so we will use Decimal + json trick from [this advice on Ruan Bekker's blog](https://blog.ruanbekker.com/blog/2019/02/05/convert-float-to-decimal-data-types-for-boto3-dynamodb-using-python/)",
   "metadata": {
    "cell_id": "00005-a7c8c849-f990-4360-a24e-3311a519acaa",
    "deepnote_cell_type": "markdown"
   }
  },
  {
   "cell_type": "code",
   "metadata": {
    "cell_id": "00006-b9bfb910-8651-4749-ba2d-67b6fa6d73f8",
    "deepnote_to_be_reexecuted": false,
    "source_hash": "4f8541dd",
    "execution_start": 1641616497112,
    "execution_millis": 4,
    "deepnote_cell_type": "code"
   },
   "source": "from decimal import Decimal\nimport json\nbandit_key = {'bandit_id': 'test_epsilon_greedy_1',\n                                'creation_date': '2021-01-07 00:00:01'}\nbandit_def = { \n     'bandit_id': 'test_epsilon_greedy_1',\n     'creation_date': '2021-01-07 00:00:01',\n     'type': 'egreedy',\n     'state': {'arms': {'arm1': {'text': 'this is arm _1_', 'reward': 0.0, 'n':0}, 'arm2': {'text': 'this is arm *2*', 'reward': 0.0, 'n':0},}},\n     'epsilon': 0.5\n      }\nbandit_def.update(bandit_key)\n\nbadnit_def_dec = json.loads(json.dumps(bandit_def), parse_float=Decimal)\n\npprint(badnit_def_dec)",
   "outputs": [
    {
     "name": "stdout",
     "text": "{'bandit_id': 'test_epsilon_greedy_1',\n 'creation_date': '2021-01-07 00:00:01',\n 'epsilon': Decimal('0.5'),\n 'state': {'arms': {'arm1': {'n': 0,\n                             'reward': Decimal('0.0'),\n                             'text': 'this is arm _1_'},\n                    'arm2': {'n': 0,\n                             'reward': Decimal('0.0'),\n                             'text': 'this is arm *2*'}}},\n 'type': 'egreedy'}\n",
     "output_type": "stream",
     "data": {}
    }
   ],
   "execution_count": null
  },
  {
   "cell_type": "code",
   "source": "response = table.put_item(\nItem = badnit_def_dec\n)\npprint(response)",
   "metadata": {
    "tags": [],
    "cell_id": "00013-01d4db83-0371-49d2-a2ff-0fb68a8ad386",
    "deepnote_to_be_reexecuted": false,
    "source_hash": "5f49901",
    "execution_start": 1641616503074,
    "execution_millis": 21,
    "deepnote_cell_type": "code"
   },
   "outputs": [
    {
     "name": "stdout",
     "text": "{'ResponseMetadata': {'HTTPHeaders': {'connection': 'keep-alive',\n                                      'content-length': '2',\n                                      'content-type': 'application/x-amz-json-1.0',\n                                      'date': 'Sat, 08 Jan 2022 04:35:02 GMT',\n                                      'server': 'Server',\n                                      'x-amz-crc32': '2745614147',\n                                      'x-amzn-requestid': '82U63GBHLLBR7P34AB28J8SOQRVV4KQNSO5AEMVJF66Q9ASUAAJG'},\n                      'HTTPStatusCode': 200,\n                      'RequestId': '82U63GBHLLBR7P34AB28J8SOQRVV4KQNSO5AEMVJF66Q9ASUAAJG',\n                      'RetryAttempts': 0}}\n",
     "output_type": "stream",
     "data": {}
    }
   ],
   "execution_count": null
  },
  {
   "cell_type": "code",
   "metadata": {
    "cell_id": "00007-ce0c28e2-5dc9-4898-8043-da7ab08bd030",
    "deepnote_to_be_reexecuted": false,
    "source_hash": "80ccde19",
    "execution_start": 1641616507200,
    "execution_millis": 25,
    "deepnote_cell_type": "code"
   },
   "source": "response = table.get_item(Key=bandit_key)\n# pprint(response)\nitem = response['Item']\npprint(item)",
   "outputs": [
    {
     "name": "stdout",
     "text": "{'Item': {'bandit_id': 'test_epsilon_greedy_1',\n          'creation_date': '2021-01-07 00:00:01',\n          'epsilon': Decimal('0.5'),\n          'state': {'arms': {'arm1': {'n': Decimal('0'),\n                                      'reward': Decimal('0'),\n                                      'text': 'this is arm _1_'},\n                             'arm2': {'n': Decimal('0'),\n                                      'reward': Decimal('0'),\n                                      'text': 'this is arm *2*'}}},\n          'type': 'egreedy'},\n 'ResponseMetadata': {'HTTPHeaders': {'connection': 'keep-alive',\n                                      'content-length': '330',\n                                      'content-type': 'application/x-amz-json-1.0',\n                                      'date': 'Sat, 08 Jan 2022 04:35:07 GMT',\n                                      'server': 'Server',\n                                      'x-amz-crc32': '537686459',\n                                      'x-amzn-requestid': 'MSUMRE8AQIKVU9E2QFGLTAKH8VVV4KQNSO5AEMVJF66Q9ASUAAJG'},\n                      'HTTPStatusCode': 200,\n                      'RequestId': 'MSUMRE8AQIKVU9E2QFGLTAKH8VVV4KQNSO5AEMVJF66Q9ASUAAJG',\n                      'RetryAttempts': 0}}\n{'bandit_id': 'test_epsilon_greedy_1',\n 'creation_date': '2021-01-07 00:00:01',\n 'epsilon': Decimal('0.5'),\n 'state': {'arms': {'arm1': {'n': Decimal('0'),\n                             'reward': Decimal('0'),\n                             'text': 'this is arm _1_'},\n                    'arm2': {'n': Decimal('0'),\n                             'reward': Decimal('0'),\n                             'text': 'this is arm *2*'}}},\n 'type': 'egreedy'}\n",
     "output_type": "stream",
     "data": {}
    }
   ],
   "execution_count": null
  },
  {
   "cell_type": "markdown",
   "source": "Incrementing `reward` and `n`",
   "metadata": {
    "tags": [],
    "cell_id": "00015-99d2be4f-8d38-441d-8c00-3daf3e7318b6",
    "deepnote_cell_type": "markdown"
   }
  },
  {
   "cell_type": "code",
   "source": "item['state']['arms']['arm1']['reward'] += 1\nitem['state']['arms']['arm1']['n'] += 1 ",
   "metadata": {
    "tags": [],
    "cell_id": "00015-4678079c-a983-4e0b-af79-1dbbc52c3f9b",
    "deepnote_to_be_reexecuted": false,
    "source_hash": "809d5b53",
    "execution_start": 1641616683870,
    "execution_millis": 5,
    "deepnote_output_heights": [
     611
    ],
    "deepnote_cell_type": "code"
   },
   "outputs": [
    {
     "name": "stdout",
     "text": "{'arm1': {'n': '6', 'reward': '6', 'text': 'this is arm _1_'},\n 'arm2': {'n': '0', 'reward': '0', 'text': 'this is arm *2*'}}\n",
     "output_type": "stream",
     "data": {}
    }
   ],
   "execution_count": null
  },
  {
   "cell_type": "markdown",
   "source": "Replacing the item (checking key attibutes equality)",
   "metadata": {
    "tags": [],
    "cell_id": "00018-5e28e25d-c3a8-4659-83d2-6ae68056c6eb",
    "deepnote_cell_type": "markdown"
   }
  },
  {
   "cell_type": "code",
   "source": "response = table.put_item(Item = item)\npprint(response)",
   "metadata": {
    "tags": [],
    "cell_id": "00018-039614fe-fdb2-4a1f-a6cd-3cf8cbb14369",
    "deepnote_to_be_reexecuted": false,
    "source_hash": "4064aaea",
    "execution_start": 1641617062471,
    "execution_millis": 91,
    "deepnote_cell_type": "code"
   },
   "outputs": [
    {
     "name": "stdout",
     "text": "{'ResponseMetadata': {'HTTPHeaders': {'connection': 'keep-alive',\n                                      'content-length': '2',\n                                      'content-type': 'application/x-amz-json-1.0',\n                                      'date': 'Sat, 08 Jan 2022 04:44:22 GMT',\n                                      'server': 'Server',\n                                      'x-amz-crc32': '2745614147',\n                                      'x-amzn-requestid': 'CHH2QMKEAVBQJ43TKU9532TCJVVV4KQNSO5AEMVJF66Q9ASUAAJG'},\n                      'HTTPStatusCode': 200,\n                      'RequestId': 'CHH2QMKEAVBQJ43TKU9532TCJVVV4KQNSO5AEMVJF66Q9ASUAAJG',\n                      'RetryAttempts': 0}}\n",
     "output_type": "stream",
     "data": {}
    }
   ],
   "execution_count": null
  },
  {
   "cell_type": "markdown",
   "source": "Draft of more incremental item update below",
   "metadata": {
    "tags": [],
    "cell_id": "00020-913f8d02-6525-47be-a008-185c48b66502",
    "deepnote_cell_type": "markdown"
   }
  },
  {
   "cell_type": "code",
   "source": "# # https://stackoverflow.com/a/68305349/119759\n# class DecimalEncoder(json.JSONEncoder):\n#   def default(self, obj):\n#     if isinstance(obj, Decimal):\n#       return str(obj)\n#     return json.JSONEncoder.default(self, obj)\n\n# arms_updated = json.loads(json.dumps(item['state']['arms'], cls=DecimalEncoder), parse_float=Decimal)\n\n# pprint(arms_updated)\n# response = table.update_item(\n#     Key= bandit_key,\n#     UpdateExpression=\"set state.arms = :arms\",\n#     ExpressionAttributeValues={\n#         ':arms': arms_updated\n#     },\n#     ReturnValues=\"UPDATED_NEW\"\n# )\n\n\n# # response = table.update_item(\n# #     Key={\n# #         'year': year,\n# #         'title': title\n# #     },\n# #     UpdateExpression=\"set info.rating = info.rating + :val\",\n# #     ExpressionAttributeValues={\n# #         ':val': Decimal(rating_increase)\n# #     },\n# #     ReturnValues=\"NONE\n# # )\n# pprint(response)",
   "metadata": {
    "tags": [],
    "cell_id": "00015-89eb3b1b-d2df-4c39-ae47-b3a434ccc457",
    "deepnote_to_be_reexecuted": false,
    "source_hash": "e734deca",
    "execution_start": 1641617146026,
    "execution_millis": 0,
    "deepnote_output_heights": [
     607
    ],
    "deepnote_cell_type": "code"
   },
   "outputs": [],
   "execution_count": null
  },
  {
   "cell_type": "markdown",
   "source": "<a style='text-decoration:none;line-height:16px;display:flex;color:#5B5B62;padding:10px;justify-content:end;' href='https://deepnote.com?utm_source=created-in-deepnote-cell&projectId=bf5284cd-2333-4dd7-a06b-b1d0e03db006' target=\"_blank\">\n<img alt='Created in deepnote.com' style='display:inline;max-height:16px;margin:0px;margin-right:7.5px;' src='data:image/svg+xml;base64,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' > </img>\nCreated in <span style='font-weight:600;margin-left:4px;'>Deepnote</span></a>",
   "metadata": {
    "tags": [],
    "created_in_deepnote_cell": true,
    "deepnote_cell_type": "markdown"
   }
  }
 ],
 "nbformat": 4,
 "nbformat_minor": 2,
 "metadata": {
  "interpreter": {
   "hash": "39105a1dbed775fa9bf3718e8df63d8a19f29b8efaa6954465005b3d8fbf77c7"
  },
  "kernelspec": {
   "display_name": "Python 3.8.10 64-bit ('chalice-tg-bandits': venv)",
   "language": "python",
   "name": "python3"
  },
  "language_info": {
   "codemirror_mode": {
    "name": "ipython",
    "version": 3
   },
   "file_extension": ".py",
   "mimetype": "text/x-python",
   "name": "python",
   "nbconvert_exporter": "python",
   "pygments_lexer": "ipython3",
   "version": "3.8.10"
  },
  "orig_nbformat": 4,
  "deepnote_notebook_id": "46d35d2f-726b-45e5-9911-17457087d1fb",
  "deepnote": {},
  "deepnote_execution_queue": []
 }
}