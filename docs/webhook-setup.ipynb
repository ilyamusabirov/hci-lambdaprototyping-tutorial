{
 "cells": [
  {
   "cell_type": "markdown",
   "metadata": {
    "cell_id": "00000-61a3f2b8-44a3-4426-8124-c75a62a22737",
    "deepnote_cell_type": "markdown"
   },
   "source": [
    "# Setting webhook for tg-bot"
   ]
  },
  {
   "cell_type": "code",
   "execution_count": null,
   "metadata": {
    "cell_id": "00001-5b16ebe0-466a-4bbf-b398-b5a741f4443f",
    "deepnote_cell_type": "code",
    "deepnote_to_be_reexecuted": false,
    "execution_millis": 1,
    "execution_start": 1641616487610,
    "source_hash": "e21be8e8",
    "tags": []
   },
   "outputs": [],
   "source": [
    "import requests\n",
    "TG_TOKEN = ''\n",
    "LAMBDA_URL = ''\n",
    "r = requests.post(f'https://api.telegram.org/bot{TG_TOKEN}/setWebhook?url={LAMBDA_URL}')"
   ]
  }
 ],
 "metadata": {
  "deepnote": {},
  "deepnote_execution_queue": [],
  "deepnote_notebook_id": "46d35d2f-726b-45e5-9911-17457087d1fb",
  "interpreter": {
   "hash": "39105a1dbed775fa9bf3718e8df63d8a19f29b8efaa6954465005b3d8fbf77c7"
  },
  "kernelspec": {
   "display_name": "Python 3.8.10 64-bit ('chalice-tg-bandits': venv)",
   "language": "python",
   "name": "python3"
  },
  "language_info": {
   "codemirror_mode": {
    "name": "ipython",
    "version": 3
   },
   "file_extension": ".py",
   "mimetype": "text/x-python",
   "name": "python",
   "nbconvert_exporter": "python",
   "pygments_lexer": "ipython3",
   "version": "3.8.10"
  },
  "orig_nbformat": 4
 },
 "nbformat": 4,
 "nbformat_minor": 2
}
