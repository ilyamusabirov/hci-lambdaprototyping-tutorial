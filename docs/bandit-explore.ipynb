{
 "cells": [
  {
   "cell_type": "markdown",
   "source": "# Exploring egreedy code in bot",
   "metadata": {
    "cell_id": "00000-e5f1774a-647a-45c0-aa05-04fbf4d46a7c",
    "deepnote_cell_type": "markdown"
   }
  },
  {
   "cell_type": "code",
   "metadata": {
    "cell_id": "00001-cbf9c271-8e7a-4dc1-af36-01d54c42ef3c",
    "deepnote_to_be_reexecuted": false,
    "source_hash": "2ab5970d",
    "execution_start": 1641639292657,
    "execution_millis": 2,
    "deepnote_cell_type": "code"
   },
   "source": "from decimal import Decimal\nimport json\nimport random\nfrom pprint import pprint\n\nBANDIT_NAME = 'test_epsilon_greedy_1'\n\nbandit_key = {'bandit_id': BANDIT_NAME,\n                            'creation_date': '2021-01-07 00:00:01'}",
   "execution_count": 1,
   "outputs": []
  },
  {
   "cell_type": "code",
   "metadata": {
    "deepnote_to_be_reexecuted": false,
    "execution_millis": 5,
    "execution_start": 1641639956337,
    "source_hash": "9d0372db",
    "tags": [],
    "cell_id": "00002-4e9a224b-08f2-4601-b353-7af945fde68f",
    "deepnote_cell_type": "code"
   },
   "source": "\nbandit_def_zero_04 = { \n  'bandit_id': 'test_epsilon_greedy_1',\n  'creation_date': '2021-01-07 00:00:01',\n  'type': 'egreedy',\n  'state': {'arms': {'arm1': {'text': 'this is arm _1_', 'reward': 0.0, 'n':0}, 'arm2': {'text': 'this is arm *2*', 'reward': 0.0, 'n':0},}},\n  'epsilon': 0.4\n}\n\n# table = ddb.Table(BANDIT_DATA_TABLE)\n# r = table.get_item(Key=bandit_key)\n# item = r['Item']\nitem = {**bandit_key, **bandit_def_zero_04}\n\npprint(item)",
   "execution_count": 32,
   "outputs": [
    {
     "name": "stdout",
     "text": "{'bandit_id': 'test_epsilon_greedy_1',\n 'creation_date': '2021-01-07 00:00:01',\n 'epsilon': 0.4,\n 'state': {'arms': {'arm1': {'n': 0, 'reward': 0.0, 'text': 'this is arm _1_'},\n                    'arm2': {'n': 0,\n                             'reward': 0.0,\n                             'text': 'this is arm *2*'}}},\n 'type': 'egreedy'}\n",
     "output_type": "stream",
     "data": {}
    }
   ]
  },
  {
   "cell_type": "code",
   "metadata": {
    "cell_id": "00003-8b6d54b6-c6fd-484e-95aa-c44a8868f1d1",
    "deepnote_to_be_reexecuted": false,
    "source_hash": "8f6db28a",
    "execution_start": 1641639971663,
    "execution_millis": 5,
    "deepnote_output_heights": [
     null,
     21.1875
    ],
    "deepnote_cell_type": "code"
   },
   "source": "eps = item['epsilon']\np = random.random()\nprint(p, eps)\narms = item['state']['arms']\narm_ids = list(arms.keys())\narm_rewards = {arm:state['reward'] for (arm, state) in arms.items()}\n",
   "execution_count": 37,
   "outputs": [
    {
     "name": "stdout",
     "text": "0.35974141176897845 0.4\n",
     "output_type": "stream",
     "data": {}
    }
   ]
  },
  {
   "cell_type": "code",
   "source": "if p < eps:\n  choice = random.choice(arm_ids)\nelse:\n  choice = max(arm_rewards, key = arm_rewards.get)\n\nprompt = arms[choice]['text']\n\nprint(prompt)",
   "metadata": {
    "tags": [],
    "cell_id": "00004-576d3622-6597-4a4d-9cb2-8aa3b5c8dc6a",
    "deepnote_to_be_reexecuted": false,
    "source_hash": "c90ffde0",
    "execution_start": 1641639974020,
    "execution_millis": 3,
    "deepnote_cell_type": "code"
   },
   "outputs": [
    {
     "name": "stdout",
     "text": "this is arm *2*\n",
     "output_type": "stream",
     "data": {}
    }
   ],
   "execution_count": 38
  },
  {
   "cell_type": "markdown",
   "source": "<a style='text-decoration:none;line-height:16px;display:flex;color:#5B5B62;padding:10px;justify-content:end;' href='https://deepnote.com?utm_source=created-in-deepnote-cell&projectId=bf5284cd-2333-4dd7-a06b-b1d0e03db006' target=\"_blank\">\n<img alt='Created in deepnote.com' style='display:inline;max-height:16px;margin:0px;margin-right:7.5px;' src='data:image/svg+xml;base64,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' > </img>\nCreated in <span style='font-weight:600;margin-left:4px;'>Deepnote</span></a>",
   "metadata": {
    "tags": [],
    "created_in_deepnote_cell": true,
    "deepnote_cell_type": "markdown"
   }
  }
 ],
 "nbformat": 4,
 "nbformat_minor": 2,
 "metadata": {
  "deepnote": {},
  "deepnote_execution_queue": [],
  "deepnote_notebook_id": "fdee81ac-6a39-4ab3-8c6a-882a119333ce",
  "interpreter": {
   "hash": "39105a1dbed775fa9bf3718e8df63d8a19f29b8efaa6954465005b3d8fbf77c7"
  },
  "kernelspec": {
   "display_name": "Python 3.8.10 64-bit ('chalice-tg-bandits': venv)",
   "language": "python",
   "name": "python3"
  },
  "language_info": {
   "codemirror_mode": {
    "name": "ipython",
    "version": 3
   },
   "file_extension": ".py",
   "mimetype": "text/x-python",
   "name": "python",
   "nbconvert_exporter": "python",
   "pygments_lexer": "ipython3",
   "version": "3.8.10"
  },
  "orig_nbformat": 4
 }
}